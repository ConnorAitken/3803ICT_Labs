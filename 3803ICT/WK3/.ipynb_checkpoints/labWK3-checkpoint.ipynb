{
 "cells": [
  {
   "cell_type": "markdown",
   "metadata": {},
   "source": [
    "## Classification"
   ]
  },
  {
   "cell_type": "code",
   "execution_count": 13,
   "metadata": {},
   "outputs": [],
   "source": [
    "# Import necessary modules\n",
    "from sklearn import datasets, svm, metrics\n",
    "import matplotlib.pyplot as plt\n",
    "\n",
    "# Load the digits dataset: digits\n",
    "digits = datasets.load_digits()"
   ]
  },
  {
   "cell_type": "code",
   "execution_count": 2,
   "metadata": {},
   "outputs": [],
   "source": [
    "from sklearn.model_selection import train_test_split\n",
    "import numpy as np\n",
    "\n",
    "# Create feature and target arrays\n",
    "x = digits.data\n",
    "y = digits.target\n",
    "\n",
    "# Split into training and test set\n",
    "x_train, x_test, y_train, y_test = train_test_split(x, y, test_size = 0.2)"
   ]
  },
  {
   "cell_type": "markdown",
   "metadata": {},
   "source": [
    "### K-NN"
   ]
  },
  {
   "cell_type": "code",
   "execution_count": 4,
   "metadata": {},
   "outputs": [],
   "source": [
    "from sklearn.preprocessing import StandardScaler\n",
    "scaler = StandardScaler()\n",
    "scaler.fit(x_train)\n",
    "\n",
    "x_train = scaler.transform(x_train)\n",
    "x_test = scaler.transform(x_test)"
   ]
  },
  {
   "cell_type": "code",
   "execution_count": 8,
   "metadata": {},
   "outputs": [],
   "source": [
    "from sklearn.neighbors import KNeighborsClassifier\n",
    "knn = KNeighborsClassifier(n_neighbors=5)\n",
    "knn.fit(x_train, y_train)\n",
    "y_pred = knn.predict(x_test)"
   ]
  },
  {
   "cell_type": "code",
   "execution_count": 12,
   "metadata": {},
   "outputs": [
    {
     "name": "stdout",
     "output_type": "stream",
     "text": [
      "Preliminary model score:\n",
      "0.9583333333333334\n"
     ]
    }
   ],
   "source": [
    "print(\"Preliminary model score:\")\n",
    "print(knn.score(x_test,y_test))\n",
    "\n",
    "no_neighbors = np.arange(1, 9)\n",
    "train_accuracy = np.empty(len(no_neighbors))\n",
    "test_accuracy = np.empty(len(no_neighbors))\n",
    "\n",
    "for i, k in enumerate(no_neighbors):\n",
    "    # We instantiate the classifier\n",
    "    knn = KNeighborsClassifier(n_neighbors=k)\n",
    "    # Fit the classifier to the training data\n",
    "    knn.fit(x_train,y_train)\n",
    "    \n",
    "    # Compute accuracy on the training set\n",
    "    train_accuracy[i] = knn.score(x_train, y_train)\n",
    "\n",
    "    # Compute accuracy on the testing set\n",
    "    test_accuracy[i] = knn.score(x_test, y_test)\n"
   ]
  },
  {
   "cell_type": "code",
   "execution_count": 11,
   "metadata": {},
   "outputs": [
    {
     "data": {
      "image/png": "[encoded data removed]",
      "text/plain": [
       "<Figure size 432x288 with 1 Axes>"
      ]
     },
     "metadata": {
      "needs_background": "light"
     },
     "output_type": "display_data"
    }
   ],
   "source": [
    "# Visualization of k values vs accuracy\n",
    "plt.title('k-NN: Varying Number of Neighbors')\n",
    "plt.plot(no_neighbors, test_accuracy, label = 'Testing Accuracy')\n",
    "plt.plot(no_neighbors, train_accuracy, label = 'Training Accuracy')\n",
    "plt.legend()\n",
    "plt.xlabel('Number of Neighbors')\n",
    "plt.ylabel('Accuracy')\n",
    "plt.show()"
   ]
  },
  {
   "cell_type": "markdown",
   "metadata": {},
   "source": [
    "#### k = 5 appears to have had the highest accuracy"
   ]
  },
  {
   "cell_type": "markdown",
   "metadata": {},
   "source": [
    "### Support Vector Machine"
   ]
  },
  {
   "cell_type": "code",
   "execution_count": 14,
   "metadata": {},
   "outputs": [],
   "source": [
    "import matplotlib.pyplot as plt\n",
    "import numpy as np\n",
    "import pandas as pd\n",
    "\n",
    "# Import datasets, classifiers and performance metrics\n",
    "from sklearn import datasets, svm, metrics\n",
    "from sklearn.model_selection import train_test_split\n",
    "\n",
    "# Create feature and target arrays\n",
    "x = digits.data\n",
    "y = digits.target\n",
    "\n",
    "# Split into training and test set\n",
    "x_train, x_test, y_train, y_test = train_test_split(x, y, test_size = 0.2)"
   ]
  },
  {
   "cell_type": "code",
   "execution_count": 24,
   "metadata": {},
   "outputs": [
    {
     "name": "stdout",
     "output_type": "stream",
     "text": [
      "Classification report for classifier SVC(gamma='auto', kernel='linear'):\n",
      "              precision    recall  f1-score   support\n",
      "\n",
      "           0       1.00      0.97      0.99        34\n",
      "           1       0.98      1.00      0.99        49\n",
      "           2       1.00      1.00      1.00        36\n",
      "           3       0.97      1.00      0.99        34\n",
      "           4       0.97      1.00      0.99        34\n",
      "           5       0.97      1.00      0.99        36\n",
      "           6       1.00      1.00      1.00        31\n",
      "           7       1.00      1.00      1.00        43\n",
      "           8       1.00      0.97      0.99        34\n",
      "           9       1.00      0.93      0.96        29\n",
      "\n",
      "    accuracy                           0.99       360\n",
      "   macro avg       0.99      0.99      0.99       360\n",
      "weighted avg       0.99      0.99      0.99       360\n",
      "\n",
      "\n",
      "Classification report for classifier SVC(C=200, cache_size=8000, gamma=0.01):\n",
      "              precision    recall  f1-score   support\n",
      "\n",
      "           0       1.00      0.88      0.94        34\n",
      "           1       1.00      0.78      0.87        49\n",
      "           2       1.00      0.81      0.89        36\n",
      "           3       1.00      0.91      0.95        34\n",
      "           4       1.00      0.74      0.85        34\n",
      "           5       1.00      0.94      0.97        36\n",
      "           6       1.00      0.84      0.91        31\n",
      "           7       1.00      0.67      0.81        43\n",
      "           8       0.85      0.97      0.90        34\n",
      "           9       0.37      1.00      0.54        29\n",
      "\n",
      "    accuracy                           0.84       360\n",
      "   macro avg       0.92      0.85      0.86       360\n",
      "weighted avg       0.93      0.84      0.87       360\n",
      "\n",
      "\n",
      "Classification report for classifier SVC(gamma=2, kernel='poly'):\n",
      "              precision    recall  f1-score   support\n",
      "\n",
      "           0       1.00      0.97      0.99        34\n",
      "           1       1.00      1.00      1.00        49\n",
      "           2       1.00      1.00      1.00        36\n",
      "           3       0.97      1.00      0.99        34\n",
      "           4       0.97      1.00      0.99        34\n",
      "           5       0.97      1.00      0.99        36\n",
      "           6       1.00      1.00      1.00        31\n",
      "           7       1.00      1.00      1.00        43\n",
      "           8       1.00      1.00      1.00        34\n",
      "           9       1.00      0.93      0.96        29\n",
      "\n",
      "    accuracy                           0.99       360\n",
      "   macro avg       0.99      0.99      0.99       360\n",
      "weighted avg       0.99      0.99      0.99       360\n",
      "\n",
      "\n"
     ]
    }
   ],
   "source": [
    "# Create a classifier: a support vector classifier\n",
    "classifier1 = svm.SVC(C=1.0, cache_size=200, class_weight=None, coef0=0.0, decision_function_shape='ovr',\n",
    "                     degree=3, gamma='auto', kernel='linear', max_iter=-1,probability=False, \n",
    "                     random_state=None, shrinking=True, tol=0.001, verbose=False)\n",
    "classifier2 = svm.SVC(C=200,kernel='rbf',gamma=0.01,cache_size=8000,probability=False)\n",
    "# classifier1 = svm.SVC(kernel='linear',gamma=2)\n",
    "# classifier2 = svm.SVC(kernel='rbf',gamma=2)\n",
    "classifier3 = svm.SVC(kernel='poly',gamma=2)\n",
    "# classifier = svm.SVC()\n",
    "\n",
    "# We learn the digits on the first half of the digits\n",
    "classifier1.fit(x_train, y_train)\n",
    "classifier2.fit(x_train, y_train)\n",
    "classifier3.fit(x_train, y_train)\n",
    "\n",
    "# Now predict the value of the digit on the second half:\n",
    "#expected = label_test\n",
    "predicted1 = classifier1.predict(x_test)\n",
    "predicted2 = classifier2.predict(x_test)\n",
    "predicted3 = classifier3.predict(x_test)\n",
    "\n",
    "print(\"Classification report for classifier %s:\\n%s\\n\"\n",
    "      % (classifier1, metrics.classification_report(y_test, predicted1)))\n",
    "# print(\"Confusion matrix:\\n%s\" % metrics.confusion_matrix(y_test, predicted1))\n",
    "print(\"Classification report for classifier %s:\\n%s\\n\"\n",
    "      % (classifier2, metrics.classification_report(y_test, predicted2)))\n",
    "print(\"Classification report for classifier %s:\\n%s\\n\"\n",
    "      % (classifier3, metrics.classification_report(y_test, predicted3)))"
   ]
  },
  {
   "cell_type": "markdown",
   "metadata": {},
   "source": [
    "### Naive Bayes"
   ]
  },
  {
   "cell_type": "code",
   "execution_count": 25,
   "metadata": {},
   "outputs": [
    {
     "name": "stdout",
     "output_type": "stream",
     "text": [
      "Confusion matrix:\n",
      "[[28  0  0  0  2  0  0  0  0  0]\n",
      " [ 0 29  3  0  0  0  0  0  5  0]\n",
      " [ 0  1 26  1  1  0  0  0  7  0]\n",
      " [ 0  0  1 30  0  0  0  2  5  0]\n",
      " [ 0  0  0  0 26  0  0  3  0  0]\n",
      " [ 0  0  0  0  0 35  0  3  1  1]\n",
      " [ 0  1  0  0  0  0 45  0  0  0]\n",
      " [ 0  0  0  0  0  0  0 38  0  0]\n",
      " [ 0  2  0  0  0  2  0  2 27  0]\n",
      " [ 0  0  0  2  1  1  0  3  4 22]]\n"
     ]
    }
   ],
   "source": [
    "import matplotlib.pyplot as plt\n",
    "import numpy as np\n",
    "import pandas as pd\n",
    "\n",
    "# Import datasets, classifiers and performance metrics\n",
    "from sklearn import datasets, metrics\n",
    "from sklearn.model_selection import train_test_split\n",
    "from sklearn.naive_bayes import GaussianNB\n",
    "\n",
    "# Create feature and target arrays\n",
    "x = digits.data\n",
    "y = digits.target\n",
    "\n",
    "# Split into training and test set\n",
    "x_train, x_test, y_train, y_test = train_test_split(x, y, test_size = 0.2)\n",
    "\n",
    "gnb = GaussianNB()\n",
    "\n",
    "y_pred = gnb.fit(x_train, y_train).predict(x_test)\n",
    "print(\"Confusion matrix:\\n%s\" % metrics.confusion_matrix(y_test, y_pred))"
   ]
  },
  {
   "cell_type": "code",
   "execution_count": null,
   "metadata": {},
   "outputs": [],
   "source": []
  }
 ],
 "metadata": {
  "kernelspec": {
   "display_name": "env_name",
   "language": "python",
   "name": "env_name"
  },
  "language_info": {
   "codemirror_mode": {
    "name": "ipython",
    "version": 3
   },
   "file_extension": ".py",
   "mimetype": "text/x-python",
   "name": "python",
   "nbconvert_exporter": "python",
   "pygments_lexer": "ipython3",
   "version": "3.6.10"
  }
 },
 "nbformat": 4,
 "nbformat_minor": 4
}
