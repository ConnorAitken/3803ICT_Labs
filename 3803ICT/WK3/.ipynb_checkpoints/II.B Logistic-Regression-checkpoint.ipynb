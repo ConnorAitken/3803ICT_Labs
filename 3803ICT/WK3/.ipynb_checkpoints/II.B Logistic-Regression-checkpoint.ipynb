{
 "cells": [
  {
   "cell_type": "markdown",
   "metadata": {},
   "source": [
    "# Credit Card Fraud"
   ]
  },
  {
   "cell_type": "code",
   "execution_count": 1,
   "metadata": {},
   "outputs": [],
   "source": [
    "import numpy as np\n",
    "import sklearn as sk\n",
    "import pandas as pd\n",
    "import matplotlib.pyplot as plt\n",
    "from sklearn.metrics import confusion_matrix\n",
    "from sklearn.preprocessing import scale\n",
    "import random"
   ]
  },
  {
   "cell_type": "code",
   "execution_count": 2,
   "metadata": {},
   "outputs": [
    {
     "data": {
      "text/html": [
       "<div>\n",
       "<style scoped>\n",
       "    .dataframe tbody tr th:only-of-type {\n",
       "        vertical-align: middle;\n",
       "    }\n",
       "\n",
       "    .dataframe tbody tr th {\n",
       "        vertical-align: top;\n",
       "    }\n",
       "\n",
       "    .dataframe thead th {\n",
       "        text-align: right;\n",
       "    }\n",
       "</style>\n",
       "<table border=\"1\" class=\"dataframe\">\n",
       "  <thead>\n",
       "    <tr style=\"text-align: right;\">\n",
       "      <th></th>\n",
       "      <th>Time</th>\n",
       "      <th>V1</th>\n",
       "      <th>V2</th>\n",
       "      <th>V3</th>\n",
       "      <th>V4</th>\n",
       "      <th>V5</th>\n",
       "      <th>V6</th>\n",
       "      <th>V7</th>\n",
       "      <th>V8</th>\n",
       "      <th>V9</th>\n",
       "      <th>...</th>\n",
       "      <th>V21</th>\n",
       "      <th>V22</th>\n",
       "      <th>V23</th>\n",
       "      <th>V24</th>\n",
       "      <th>V25</th>\n",
       "      <th>V26</th>\n",
       "      <th>V27</th>\n",
       "      <th>V28</th>\n",
       "      <th>Amount</th>\n",
       "      <th>Class</th>\n",
       "    </tr>\n",
       "  </thead>\n",
       "  <tbody>\n",
       "    <tr>\n",
       "      <th>0</th>\n",
       "      <td>57020.0</td>\n",
       "      <td>1.237894</td>\n",
       "      <td>0.575888</td>\n",
       "      <td>0.622827</td>\n",
       "      <td>2.288426</td>\n",
       "      <td>0.105826</td>\n",
       "      <td>0.082090</td>\n",
       "      <td>-0.030039</td>\n",
       "      <td>-0.036865</td>\n",
       "      <td>-0.644799</td>\n",
       "      <td>...</td>\n",
       "      <td>-0.144245</td>\n",
       "      <td>-0.415146</td>\n",
       "      <td>-0.037228</td>\n",
       "      <td>-0.471034</td>\n",
       "      <td>0.437823</td>\n",
       "      <td>-0.079829</td>\n",
       "      <td>0.008932</td>\n",
       "      <td>0.023001</td>\n",
       "      <td>0.77</td>\n",
       "      <td>0</td>\n",
       "    </tr>\n",
       "    <tr>\n",
       "      <th>1</th>\n",
       "      <td>137035.0</td>\n",
       "      <td>2.306455</td>\n",
       "      <td>-0.440680</td>\n",
       "      <td>-2.238283</td>\n",
       "      <td>-1.044236</td>\n",
       "      <td>0.264012</td>\n",
       "      <td>-1.271650</td>\n",
       "      <td>0.197408</td>\n",
       "      <td>-0.508954</td>\n",
       "      <td>-0.981514</td>\n",
       "      <td>...</td>\n",
       "      <td>0.332682</td>\n",
       "      <td>0.971648</td>\n",
       "      <td>-0.031854</td>\n",
       "      <td>0.666436</td>\n",
       "      <td>0.474742</td>\n",
       "      <td>0.057742</td>\n",
       "      <td>-0.078735</td>\n",
       "      <td>-0.077663</td>\n",
       "      <td>2.00</td>\n",
       "      <td>0</td>\n",
       "    </tr>\n",
       "    <tr>\n",
       "      <th>2</th>\n",
       "      <td>14556.0</td>\n",
       "      <td>-2.210440</td>\n",
       "      <td>-1.094334</td>\n",
       "      <td>2.672839</td>\n",
       "      <td>0.184718</td>\n",
       "      <td>1.089985</td>\n",
       "      <td>-0.764141</td>\n",
       "      <td>-0.778540</td>\n",
       "      <td>0.327296</td>\n",
       "      <td>1.579237</td>\n",
       "      <td>...</td>\n",
       "      <td>0.160246</td>\n",
       "      <td>0.315373</td>\n",
       "      <td>0.190006</td>\n",
       "      <td>0.052514</td>\n",
       "      <td>0.425561</td>\n",
       "      <td>0.499014</td>\n",
       "      <td>0.170910</td>\n",
       "      <td>0.156490</td>\n",
       "      <td>88.30</td>\n",
       "      <td>0</td>\n",
       "    </tr>\n",
       "    <tr>\n",
       "      <th>3</th>\n",
       "      <td>130205.0</td>\n",
       "      <td>-0.223638</td>\n",
       "      <td>0.629531</td>\n",
       "      <td>1.238994</td>\n",
       "      <td>-0.651229</td>\n",
       "      <td>0.049162</td>\n",
       "      <td>-0.589885</td>\n",
       "      <td>0.761698</td>\n",
       "      <td>-0.363915</td>\n",
       "      <td>0.750630</td>\n",
       "      <td>...</td>\n",
       "      <td>-0.050445</td>\n",
       "      <td>0.078155</td>\n",
       "      <td>0.150219</td>\n",
       "      <td>0.013670</td>\n",
       "      <td>-1.265882</td>\n",
       "      <td>-0.849560</td>\n",
       "      <td>-0.152587</td>\n",
       "      <td>0.036182</td>\n",
       "      <td>22.00</td>\n",
       "      <td>0</td>\n",
       "    </tr>\n",
       "    <tr>\n",
       "      <th>4</th>\n",
       "      <td>47561.0</td>\n",
       "      <td>1.220908</td>\n",
       "      <td>0.428028</td>\n",
       "      <td>0.312680</td>\n",
       "      <td>1.115333</td>\n",
       "      <td>-0.156956</td>\n",
       "      <td>-0.929838</td>\n",
       "      <td>0.331405</td>\n",
       "      <td>-0.317203</td>\n",
       "      <td>-0.233560</td>\n",
       "      <td>...</td>\n",
       "      <td>0.051492</td>\n",
       "      <td>0.236264</td>\n",
       "      <td>-0.127037</td>\n",
       "      <td>0.437418</td>\n",
       "      <td>0.730864</td>\n",
       "      <td>-0.334539</td>\n",
       "      <td>0.020622</td>\n",
       "      <td>0.025616</td>\n",
       "      <td>17.00</td>\n",
       "      <td>0</td>\n",
       "    </tr>\n",
       "  </tbody>\n",
       "</table>\n",
       "<p>5 rows × 31 columns</p>\n",
       "</div>"
      ],
      "text/plain": [
       "       Time        V1        V2        V3        V4        V5        V6  \\\n",
       "0   57020.0  1.237894  0.575888  0.622827  2.288426  0.105826  0.082090   \n",
       "1  137035.0  2.306455 -0.440680 -2.238283 -1.044236  0.264012 -1.271650   \n",
       "2   14556.0 -2.210440 -1.094334  2.672839  0.184718  1.089985 -0.764141   \n",
       "3  130205.0 -0.223638  0.629531  1.238994 -0.651229  0.049162 -0.589885   \n",
       "4   47561.0  1.220908  0.428028  0.312680  1.115333 -0.156956 -0.929838   \n",
       "\n",
       "         V7        V8        V9  ...       V21       V22       V23       V24  \\\n",
       "0 -0.030039 -0.036865 -0.644799  ... -0.144245 -0.415146 -0.037228 -0.471034   \n",
       "1  0.197408 -0.508954 -0.981514  ...  0.332682  0.971648 -0.031854  0.666436   \n",
       "2 -0.778540  0.327296  1.579237  ...  0.160246  0.315373  0.190006  0.052514   \n",
       "3  0.761698 -0.363915  0.750630  ... -0.050445  0.078155  0.150219  0.013670   \n",
       "4  0.331405 -0.317203 -0.233560  ...  0.051492  0.236264 -0.127037  0.437418   \n",
       "\n",
       "        V25       V26       V27       V28  Amount  Class  \n",
       "0  0.437823 -0.079829  0.008932  0.023001    0.77      0  \n",
       "1  0.474742  0.057742 -0.078735 -0.077663    2.00      0  \n",
       "2  0.425561  0.499014  0.170910  0.156490   88.30      0  \n",
       "3 -1.265882 -0.849560 -0.152587  0.036182   22.00      0  \n",
       "4  0.730864 -0.334539  0.020622  0.025616   17.00      0  \n",
       "\n",
       "[5 rows x 31 columns]"
      ]
     },
     "execution_count": 2,
     "metadata": {},
     "output_type": "execute_result"
    }
   ],
   "source": [
    "df = pd.read_csv('../DataBases/creditcard.csv', low_memory=False)\n",
    "df = df.sample(frac=1).reset_index(drop=True)\n",
    "df.head()"
   ]
  },
  {
   "cell_type": "code",
   "execution_count": 3,
   "metadata": {},
   "outputs": [
    {
     "name": "stdout",
     "output_type": "stream",
     "text": [
      "492 frauds,  284315 nonfrauds.\n"
     ]
    }
   ],
   "source": [
    "frauds = df.loc[df['Class'] == 1]\n",
    "non_frauds = df.loc[df['Class'] == 0]\n",
    "print(len(frauds), \"frauds, \", len(non_frauds), \"nonfrauds.\")"
   ]
  },
  {
   "cell_type": "code",
   "execution_count": 4,
   "metadata": {},
   "outputs": [
    {
     "data": {
      "image/png": "[encoded data removed]",
      "text/plain": [
       "<Figure size 432x288 with 1 Axes>"
      ]
     },
     "metadata": {
      "needs_background": "light"
     },
     "output_type": "display_data"
    }
   ],
   "source": [
    "ax = frauds.plot.scatter(x='Amount', y='Class', color='Orange', label='Fraud')\n",
    "non_frauds.plot.scatter(x='Amount', y='Class', color='Blue', label='Normal', ax=ax)\n",
    "plt.show()"
   ]
  },
  {
   "cell_type": "code",
   "execution_count": 5,
   "metadata": {},
   "outputs": [],
   "source": [
    "from sklearn import datasets, linear_model\n",
    "from sklearn.model_selection import train_test_split"
   ]
  },
  {
   "cell_type": "code",
   "execution_count": 6,
   "metadata": {},
   "outputs": [],
   "source": [
    "X = df.iloc[:,:-1]\n",
    "y = df['Class']\n",
    "X_train, X_test, y_train, y_test = train_test_split(X, y, test_size=0.35)\n"
   ]
  },
  {
   "cell_type": "code",
   "execution_count": 7,
   "metadata": {},
   "outputs": [
    {
     "name": "stdout",
     "output_type": "stream",
     "text": [
      "Accuracy:  0.9990770743256122\n"
     ]
    },
    {
     "name": "stderr",
     "output_type": "stream",
     "text": [
      "C:\\Users\\conno\\Anaconda3\\envs\\env_name\\lib\\site-packages\\sklearn\\linear_model\\_logistic.py:764: ConvergenceWarning: lbfgs failed to converge (status=1):\n",
      "STOP: TOTAL NO. of ITERATIONS REACHED LIMIT.\n",
      "\n",
      "Increase the number of iterations (max_iter) or scale the data as shown in:\n",
      "    https://scikit-learn.org/stable/modules/preprocessing.html\n",
      "Please also refer to the documentation for alternative solver options:\n",
      "    https://scikit-learn.org/stable/modules/linear_model.html#logistic-regression\n",
      "  extra_warning_msg=_LOGISTIC_SOLVER_CONVERGENCE_MSG)\n"
     ]
    }
   ],
   "source": [
    "logistic = linear_model.LogisticRegression()\n",
    "logistic.fit(X_train, y_train)\n",
    "print(\"Accuracy: \", logistic.score(X_test, y_test))"
   ]
  },
  {
   "cell_type": "code",
   "execution_count": 8,
   "metadata": {},
   "outputs": [
    {
     "data": {
      "text/plain": [
       "Text(0.5, 42.0, 'Predicted label')"
      ]
     },
     "execution_count": 8,
     "metadata": {},
     "output_type": "execute_result"
    },
    {
     "data": {
      "image/png": "[encoded data removed]",
      "text/plain": [
       "<Figure size 720x504 with 2 Axes>"
      ]
     },
     "metadata": {
      "needs_background": "light"
     },
     "output_type": "display_data"
    }
   ],
   "source": [
    "import seaborn as sns\n",
    "y_predicted = logistic.predict(X_test)\n",
    "plt.figure(figsize=(10,7))\n",
    "cm = confusion_matrix(y_test, y_predicted)\n",
    "ax = sns.heatmap(cm, annot=True, fmt=\"d\")\n",
    "plt.ylabel('True label')\n",
    "plt.xlabel('Predicted label')\n"
   ]
  }
 ],
 "metadata": {
  "anaconda-cloud": {},
  "kernelspec": {
   "display_name": "Python 3",
   "language": "python",
   "name": "python3"
  },
  "language_info": {
   "codemirror_mode": {
    "name": "ipython",
    "version": 3
   },
   "file_extension": ".py",
   "mimetype": "text/x-python",
   "name": "python",
   "nbconvert_exporter": "python",
   "pygments_lexer": "ipython3",
   "version": "3.6.10"
  }
 },
 "nbformat": 4,
 "nbformat_minor": 1
}
